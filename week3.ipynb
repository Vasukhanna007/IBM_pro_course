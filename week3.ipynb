{
    "nbformat_minor": 1, 
    "cells": [
        {
            "execution_count": 1, 
            "cell_type": "code", 
            "metadata": {}, 
            "outputs": [
                {
                    "output_type": "stream", 
                    "name": "stdout", 
                    "text": "Solving environment: done\n\n## Package Plan ##\n\n  environment location: /opt/conda/envs/DSX-Python35\n\n  added / updated specs: \n    - beautifulsoup4\n\n\nThe following packages will be downloaded:\n\n    package                    |            build\n    ---------------------------|-----------------\n    sqlite-3.28.0              |       h7b6447c_0         1.9 MB\n    certifi-2019.6.16          |           py37_0         154 KB\n    beautifulsoup4-4.7.1       |           py37_1         143 KB\n    setuptools-41.0.1          |           py37_0         648 KB\n    pip-19.1.1                 |           py37_0         1.8 MB\n    wheel-0.33.4               |           py37_0          39 KB\n    _libgcc_mutex-0.1          |             main           3 KB\n    libgcc-ng-9.1.0            |       hdf63c60_0         8.1 MB\n    ca-certificates-2019.5.15  |                0         133 KB\n    python-3.7.3               |       h0371630_0        36.7 MB\n    soupsieve-1.8              |           py37_0         104 KB\n    ------------------------------------------------------------\n                                           Total:        49.7 MB\n\nThe following NEW packages will be INSTALLED:\n\n    _libgcc_mutex:   0.1-main               \n    soupsieve:       1.8-py37_0             \n\nThe following packages will be UPDATED:\n\n    beautifulsoup4:  4.6.0-py35h442a8c9_1    --> 4.7.1-py37_1           \n    ca-certificates: 2019.1.23-0             --> 2019.5.15-0            \n    certifi:         2018.8.24-py35_1        --> 2019.6.16-py37_0       \n    libedit:         3.1.20170329-h6b74fdf_2 --> 3.1.20181209-hc058e9b_0\n    libgcc-ng:       8.2.0-hdf63c60_1        --> 9.1.0-hdf63c60_0       \n    ncurses:         6.1-hf484d3e_0          --> 6.1-he6710b0_1         \n    openssl:         1.0.2s-h7b6447c_0       --> 1.1.1c-h7b6447c_1      \n    pip:             10.0.1-py35_0           --> 19.1.1-py37_0          \n    python:          3.5.5-hc3d631a_4        --> 3.7.3-h0371630_0       \n    readline:        7.0-ha6073c6_4          --> 7.0-h7b6447c_5         \n    setuptools:      36.5.0-py35ha8c1747_0   --> 41.0.1-py37_0          \n    sqlite:          3.24.0-h84994c4_0       --> 3.28.0-h7b6447c_0      \n    tk:              8.6.7-hc745277_3        --> 8.6.8-hbc83047_0       \n    wheel:           0.29.0-py35h601ca99_1   --> 0.33.4-py37_0          \n    zlib:            1.2.11-ha838bed_2       --> 1.2.11-h7b6447c_3      \n\n\nDownloading and Extracting Packages\nsqlite-3.28.0        | 1.9 MB    | ##################################### | 100% \ncertifi-2019.6.16    | 154 KB    | ##################################### | 100% \nbeautifulsoup4-4.7.1 | 143 KB    | ##################################### | 100% \nsetuptools-41.0.1    | 648 KB    | ##################################### | 100% \npip-19.1.1           | 1.8 MB    | ##################################### | 100% \nwheel-0.33.4         | 39 KB     | ##################################### | 100% \n_libgcc_mutex-0.1    | 3 KB      | ##################################### | 100% \nlibgcc-ng-9.1.0      | 8.1 MB    | ##################################### | 100% \nca-certificates-2019 | 133 KB    | ##################################### | 100% \npython-3.7.3         | 36.7 MB   | ##################################### | 100% \nsoupsieve-1.8        | 104 KB    | ##################################### | 100% \nPreparing transaction: done\nVerifying transaction: done\nExecuting transaction: done\n"
                }
            ], 
            "source": "!conda install beautifulsoup4\n"
        }, 
        {
            "execution_count": 6, 
            "cell_type": "code", 
            "metadata": {}, 
            "outputs": [
                {
                    "ename": "ImportError", 
                    "evalue": "No module named 'bs4'", 
                    "traceback": [
                        "\u001b[0;31m---------------------------------------------------------------------------\u001b[0m", 
                        "\u001b[0;31mImportError\u001b[0m                               Traceback (most recent call last)", 
                        "\u001b[0;32m<ipython-input-6-9144e80cd349>\u001b[0m in \u001b[0;36m<module>\u001b[0;34m()\u001b[0m\n\u001b[0;32m----> 1\u001b[0;31m \u001b[0;32mfrom\u001b[0m \u001b[0mbs4\u001b[0m \u001b[0;32mimport\u001b[0m \u001b[0mBeautifulSoup\u001b[0m\u001b[0;34m\u001b[0m\u001b[0m\n\u001b[0m", 
                        "\u001b[0;31mImportError\u001b[0m: No module named 'bs4'"
                    ], 
                    "output_type": "error"
                }
            ], 
            "source": "from bs4 import BeautifulSoup\n"
        }, 
        {
            "source": "## scrapping data from wikipedia and cleaning it using beautifulsoup lib", 
            "cell_type": "markdown", 
            "metadata": {}
        }, 
        {
            "execution_count": 7, 
            "cell_type": "code", 
            "metadata": {}, 
            "outputs": [
                {
                    "output_type": "stream", 
                    "name": "stdout", 
                    "text": "Solving environment: done\n\n# All requested packages already installed.\n\n"
                }
            ], 
            "source": "!conda install lxml\n"
        }, 
        {
            "source": "#### imported beautiful soup ", 
            "cell_type": "markdown", 
            "metadata": {}
        }, 
        {
            "execution_count": 8, 
            "cell_type": "code", 
            "metadata": {}, 
            "outputs": [
                {
                    "ename": "ImportError", 
                    "evalue": "No module named 'certifi'", 
                    "traceback": [
                        "\u001b[0;31m---------------------------------------------------------------------------\u001b[0m", 
                        "\u001b[0;31mImportError\u001b[0m                               Traceback (most recent call last)", 
                        "\u001b[0;32m<ipython-input-8-5ebb17aa3d3f>\u001b[0m in \u001b[0;36m<module>\u001b[0;34m()\u001b[0m\n\u001b[0;32m----> 1\u001b[0;31m \u001b[0;32mimport\u001b[0m \u001b[0mrequests\u001b[0m\u001b[0;34m\u001b[0m\u001b[0m\n\u001b[0m\u001b[1;32m      2\u001b[0m \u001b[0murl\u001b[0m\u001b[0;34m=\u001b[0m\u001b[0;34m'https://en.wikipedia.org/wiki/List_of_postal_codes_of_Canada:_M'\u001b[0m\u001b[0;34m\u001b[0m\u001b[0m\n", 
                        "\u001b[0;32m/opt/conda/envs/DSX-Python35/lib/python3.5/site-packages/requests/__init__.py\u001b[0m in \u001b[0;36m<module>\u001b[0;34m()\u001b[0m\n\u001b[1;32m     95\u001b[0m \u001b[0;32mfrom\u001b[0m \u001b[0;34m.\u001b[0m\u001b[0m__version__\u001b[0m \u001b[0;32mimport\u001b[0m \u001b[0m__copyright__\u001b[0m\u001b[0;34m,\u001b[0m \u001b[0m__cake__\u001b[0m\u001b[0;34m\u001b[0m\u001b[0m\n\u001b[1;32m     96\u001b[0m \u001b[0;34m\u001b[0m\u001b[0m\n\u001b[0;32m---> 97\u001b[0;31m \u001b[0;32mfrom\u001b[0m \u001b[0;34m.\u001b[0m \u001b[0;32mimport\u001b[0m \u001b[0mutils\u001b[0m\u001b[0;34m\u001b[0m\u001b[0m\n\u001b[0m\u001b[1;32m     98\u001b[0m \u001b[0;32mfrom\u001b[0m \u001b[0;34m.\u001b[0m \u001b[0;32mimport\u001b[0m \u001b[0mpackages\u001b[0m\u001b[0;34m\u001b[0m\u001b[0m\n\u001b[1;32m     99\u001b[0m \u001b[0;32mfrom\u001b[0m \u001b[0;34m.\u001b[0m\u001b[0mmodels\u001b[0m \u001b[0;32mimport\u001b[0m \u001b[0mRequest\u001b[0m\u001b[0;34m,\u001b[0m \u001b[0mResponse\u001b[0m\u001b[0;34m,\u001b[0m \u001b[0mPreparedRequest\u001b[0m\u001b[0;34m\u001b[0m\u001b[0m\n", 
                        "\u001b[0;32m/opt/conda/envs/DSX-Python35/lib/python3.5/site-packages/requests/utils.py\u001b[0m in \u001b[0;36m<module>\u001b[0;34m()\u001b[0m\n\u001b[1;32m     22\u001b[0m \u001b[0;34m\u001b[0m\u001b[0m\n\u001b[1;32m     23\u001b[0m \u001b[0;32mfrom\u001b[0m \u001b[0;34m.\u001b[0m\u001b[0m__version__\u001b[0m \u001b[0;32mimport\u001b[0m \u001b[0m__version__\u001b[0m\u001b[0;34m\u001b[0m\u001b[0m\n\u001b[0;32m---> 24\u001b[0;31m \u001b[0;32mfrom\u001b[0m \u001b[0;34m.\u001b[0m \u001b[0;32mimport\u001b[0m \u001b[0mcerts\u001b[0m\u001b[0;34m\u001b[0m\u001b[0m\n\u001b[0m\u001b[1;32m     25\u001b[0m \u001b[0;31m# to_native_string is unused here, but imported here for backwards compatibility\u001b[0m\u001b[0;34m\u001b[0m\u001b[0;34m\u001b[0m\u001b[0m\n\u001b[1;32m     26\u001b[0m \u001b[0;32mfrom\u001b[0m \u001b[0;34m.\u001b[0m\u001b[0m_internal_utils\u001b[0m \u001b[0;32mimport\u001b[0m \u001b[0mto_native_string\u001b[0m\u001b[0;34m\u001b[0m\u001b[0m\n", 
                        "\u001b[0;32m/opt/conda/envs/DSX-Python35/lib/python3.5/site-packages/requests/certs.py\u001b[0m in \u001b[0;36m<module>\u001b[0;34m()\u001b[0m\n\u001b[1;32m     13\u001b[0m \u001b[0mpackaged\u001b[0m \u001b[0mCA\u001b[0m \u001b[0mbundle\u001b[0m\u001b[0;34m.\u001b[0m\u001b[0;34m\u001b[0m\u001b[0m\n\u001b[1;32m     14\u001b[0m \"\"\"\n\u001b[0;32m---> 15\u001b[0;31m \u001b[0;32mfrom\u001b[0m \u001b[0mcertifi\u001b[0m \u001b[0;32mimport\u001b[0m \u001b[0mwhere\u001b[0m\u001b[0;34m\u001b[0m\u001b[0m\n\u001b[0m\u001b[1;32m     16\u001b[0m \u001b[0;34m\u001b[0m\u001b[0m\n\u001b[1;32m     17\u001b[0m \u001b[0;32mif\u001b[0m \u001b[0m__name__\u001b[0m \u001b[0;34m==\u001b[0m \u001b[0;34m'__main__'\u001b[0m\u001b[0;34m:\u001b[0m\u001b[0;34m\u001b[0m\u001b[0m\n", 
                        "\u001b[0;31mImportError\u001b[0m: No module named 'certifi'"
                    ], 
                    "output_type": "error"
                }
            ], 
            "source": "import requests\nurl='https://en.wikipedia.org/wiki/List_of_postal_codes_of_Canada:_M'"
        }, 
        {
            "execution_count": null, 
            "cell_type": "code", 
            "metadata": {}, 
            "outputs": [], 
            "source": "source= requests.get(url).text"
        }, 
        {
            "execution_count": null, 
            "cell_type": "code", 
            "metadata": {}, 
            "outputs": [], 
            "source": "soup= BeautifulSoup(source,'lxml')"
        }, 
        {
            "execution_count": null, 
            "cell_type": "code", 
            "metadata": {}, 
            "outputs": [], 
            "source": "#print(soup.prettify())"
        }, 
        {
            "execution_count": null, 
            "cell_type": "code", 
            "metadata": {}, 
            "outputs": [], 
            "source": "table=soup.find('table')"
        }, 
        {
            "execution_count": null, 
            "cell_type": "code", 
            "metadata": {}, 
            "outputs": [], 
            "source": "#print(table.prettify())\nimport pandas as pd"
        }, 
        {
            "execution_count": null, 
            "cell_type": "code", 
            "metadata": {}, 
            "outputs": [], 
            "source": "#reading using read_html func of pandas\ntables = pd.read_html(source)\n"
        }, 
        {
            "execution_count": null, 
            "cell_type": "code", 
            "metadata": {}, 
            "outputs": [], 
            "source": "#converting in dataframe\ndf = pd.DataFrame(tables[0])\ndf.columns=['Postcode','Borough','Neighbourhood']\ndf\ndf1=df.drop(0)   "
        }, 
        {
            "execution_count": null, 
            "cell_type": "code", 
            "metadata": {}, 
            "outputs": [], 
            "source": "df1.head()"
        }, 
        {
            "source": "### removing not assigend from boroughs and grouping them with common postcode also writing neighborhood", 
            "cell_type": "markdown", 
            "metadata": {}
        }, 
        {
            "execution_count": null, 
            "cell_type": "code", 
            "metadata": {}, 
            "outputs": [], 
            "source": "df1=df1[df1.Borough != 'Not assigned']\n\ndf1.head(10)\ndf_new=pd.DataFrame(df1)\ndf_new.head()\ndf2=df1.groupby(\"Postcode\").agg(lambda x:','.join(set(x)))\ndf2=df2.reset_index()\ndf2.head(20)"
        }, 
        {
            "execution_count": null, 
            "cell_type": "code", 
            "metadata": {}, 
            "outputs": [], 
            "source": "#checking if there is any Not assigned value which is undesirable in neighborhood\ndf2.loc[df2['Neighbourhood']==\"Not assigned\",'Neighbourhood']=df2.loc[df2['Neighbourhood']==\"Not assigned\",'Borough']\n\nlen(df2[df2['Neighbourhood'] == 'Not assigned'])"
        }, 
        {
            "execution_count": null, 
            "cell_type": "code", 
            "metadata": {}, 
            "outputs": [], 
            "source": "df2.shape"
        }, 
        {
            "execution_count": null, 
            "cell_type": "code", 
            "metadata": {}, 
            "outputs": [], 
            "source": "!pip install geocoder\n"
        }, 
        {
            "execution_count": null, 
            "cell_type": "code", 
            "metadata": {}, 
            "outputs": [], 
            "source": "!pip install tensorflow"
        }, 
        {
            "execution_count": null, 
            "cell_type": "code", 
            "metadata": {}, 
            "outputs": [], 
            "source": ""
        }, 
        {
            "execution_count": null, 
            "cell_type": "code", 
            "metadata": {}, 
            "outputs": [], 
            "source": "!pip install tensorboard"
        }, 
        {
            "execution_count": null, 
            "cell_type": "code", 
            "metadata": {}, 
            "outputs": [], 
            "source": "!pip install geocoder\n"
        }, 
        {
            "execution_count": null, 
            "cell_type": "code", 
            "metadata": {}, 
            "outputs": [], 
            "source": "import geocoder\ng = geocoder.ip('199.7.157.0')\ng = geocoder.ip('me')\nprint(g.latlng)\ng.city"
        }, 
        {
            "execution_count": null, 
            "cell_type": "code", 
            "metadata": {}, 
            "outputs": [], 
            "source": "import geocoder # import geocoder\n\n# initialize your variable to None\nlat_lng_coords = None\n\n# loop until you get the coordinates\nwhile(lat_lng_coords is None):\n  g = geocoder.google('{}, Toronto, Ontario'.format(df2.Postcode))\n  lat_lng_coords = g.latlng\n\nprint(latitude = lat_lng_coords[0])\nprint(longitude = lat_lng_coords[1])"
        }, 
        {
            "execution_count": null, 
            "cell_type": "code", 
            "metadata": {}, 
            "outputs": [], 
            "source": ""
        }, 
        {
            "execution_count": null, 
            "cell_type": "code", 
            "metadata": {}, 
            "outputs": [], 
            "source": ""
        }
    ], 
    "metadata": {
        "kernelspec": {
            "display_name": "Python 3.5", 
            "name": "python3", 
            "language": "python"
        }, 
        "language_info": {
            "mimetype": "text/x-python", 
            "nbconvert_exporter": "python", 
            "version": "3.5.5", 
            "name": "python", 
            "file_extension": ".py", 
            "pygments_lexer": "ipython3", 
            "codemirror_mode": {
                "version": 3, 
                "name": "ipython"
            }
        }
    }, 
    "nbformat": 4
}